{
 "cells": [
  {
   "cell_type": "code",
   "execution_count": 1,
   "id": "a0af370c",
   "metadata": {},
   "outputs": [],
   "source": [
    "import numpy as np\n",
    "import pandas as pd\n",
    "import matplotlib.pyplot as plt\n",
    "%matplotlib inline\n",
    "import seaborn as sns"
   ]
  },
  {
   "cell_type": "code",
   "execution_count": 2,
   "id": "de52edda",
   "metadata": {},
   "outputs": [
    {
     "data": {
      "text/html": [
       "<div>\n",
       "<style scoped>\n",
       "    .dataframe tbody tr th:only-of-type {\n",
       "        vertical-align: middle;\n",
       "    }\n",
       "\n",
       "    .dataframe tbody tr th {\n",
       "        vertical-align: top;\n",
       "    }\n",
       "\n",
       "    .dataframe thead th {\n",
       "        text-align: right;\n",
       "    }\n",
       "</style>\n",
       "<table border=\"1\" class=\"dataframe\">\n",
       "  <thead>\n",
       "    <tr style=\"text-align: right;\">\n",
       "      <th></th>\n",
       "      <th>User ID</th>\n",
       "      <th>Gender</th>\n",
       "      <th>Age</th>\n",
       "      <th>EstimatedSalary</th>\n",
       "      <th>Purchased</th>\n",
       "    </tr>\n",
       "  </thead>\n",
       "  <tbody>\n",
       "    <tr>\n",
       "      <th>0</th>\n",
       "      <td>15624510</td>\n",
       "      <td>Male</td>\n",
       "      <td>19</td>\n",
       "      <td>19000</td>\n",
       "      <td>0</td>\n",
       "    </tr>\n",
       "    <tr>\n",
       "      <th>1</th>\n",
       "      <td>15810944</td>\n",
       "      <td>Male</td>\n",
       "      <td>35</td>\n",
       "      <td>20000</td>\n",
       "      <td>0</td>\n",
       "    </tr>\n",
       "    <tr>\n",
       "      <th>2</th>\n",
       "      <td>15668575</td>\n",
       "      <td>Female</td>\n",
       "      <td>26</td>\n",
       "      <td>43000</td>\n",
       "      <td>0</td>\n",
       "    </tr>\n",
       "    <tr>\n",
       "      <th>3</th>\n",
       "      <td>15603246</td>\n",
       "      <td>Female</td>\n",
       "      <td>27</td>\n",
       "      <td>57000</td>\n",
       "      <td>0</td>\n",
       "    </tr>\n",
       "    <tr>\n",
       "      <th>4</th>\n",
       "      <td>15804002</td>\n",
       "      <td>Male</td>\n",
       "      <td>19</td>\n",
       "      <td>76000</td>\n",
       "      <td>0</td>\n",
       "    </tr>\n",
       "  </tbody>\n",
       "</table>\n",
       "</div>"
      ],
      "text/plain": [
       "    User ID  Gender  Age  EstimatedSalary  Purchased\n",
       "0  15624510    Male   19            19000          0\n",
       "1  15810944    Male   35            20000          0\n",
       "2  15668575  Female   26            43000          0\n",
       "3  15603246  Female   27            57000          0\n",
       "4  15804002    Male   19            76000          0"
      ]
     },
     "execution_count": 2,
     "metadata": {},
     "output_type": "execute_result"
    }
   ],
   "source": [
    "df=pd.read_csv('Customer_Actions.csv')\n",
    "df.head()"
   ]
  },
  {
   "cell_type": "code",
   "execution_count": 3,
   "id": "1fc513a6",
   "metadata": {},
   "outputs": [
    {
     "name": "stdout",
     "output_type": "stream",
     "text": [
      "<class 'pandas.core.frame.DataFrame'>\n",
      "RangeIndex: 350 entries, 0 to 349\n",
      "Data columns (total 5 columns):\n",
      " #   Column           Non-Null Count  Dtype \n",
      "---  ------           --------------  ----- \n",
      " 0   User ID          350 non-null    int64 \n",
      " 1   Gender           350 non-null    object\n",
      " 2   Age              350 non-null    int64 \n",
      " 3   EstimatedSalary  350 non-null    int64 \n",
      " 4   Purchased        350 non-null    int64 \n",
      "dtypes: int64(4), object(1)\n",
      "memory usage: 13.8+ KB\n"
     ]
    }
   ],
   "source": [
    "df.info()"
   ]
  },
  {
   "cell_type": "code",
   "execution_count": 4,
   "id": "b5057bfd",
   "metadata": {},
   "outputs": [
    {
     "name": "stdout",
     "output_type": "stream",
     "text": [
      "Size of dataset : (350, 5)\n"
     ]
    }
   ],
   "source": [
    "print('Size of dataset :',df.shape)"
   ]
  },
  {
   "cell_type": "code",
   "execution_count": 5,
   "id": "ba76f630",
   "metadata": {},
   "outputs": [
    {
     "data": {
      "text/plain": [
       "0    243\n",
       "1    107\n",
       "Name: Purchased, dtype: int64"
      ]
     },
     "execution_count": 5,
     "metadata": {},
     "output_type": "execute_result"
    }
   ],
   "source": [
    "df['Purchased'].value_counts()"
   ]
  },
  {
   "cell_type": "markdown",
   "id": "90a23b2b",
   "metadata": {},
   "source": [
    "### 1. Age vs purchasing behaviour"
   ]
  },
  {
   "cell_type": "code",
   "execution_count": 6,
   "id": "084b36ae",
   "metadata": {},
   "outputs": [
    {
     "data": {
      "image/png": "[encoded data removed]",
      "text/plain": [
       "<Figure size 640x480 with 1 Axes>"
      ]
     },
     "metadata": {},
     "output_type": "display_data"
    }
   ],
   "source": [
    "plt.scatter(df['Age'],df['Purchased'])\n",
    "plt.title('Age vs purchasing behaviour')\n",
    "plt.xlabel('Age')\n",
    "plt.ylabel('Purchased')\n",
    "plt.show()"
   ]
  },
  {
   "cell_type": "code",
   "execution_count": 7,
   "id": "7237662c",
   "metadata": {},
   "outputs": [],
   "source": [
    "from sklearn.preprocessing import LabelEncoder"
   ]
  },
  {
   "cell_type": "code",
   "execution_count": 8,
   "id": "3e2a9313",
   "metadata": {},
   "outputs": [],
   "source": [
    "label_encoder=LabelEncoder()\n",
    "df['Gender_encoded']=label_encoder.fit_transform(df['Gender'])"
   ]
  },
  {
   "cell_type": "code",
   "execution_count": 9,
   "id": "b4943d65",
   "metadata": {},
   "outputs": [
    {
     "data": {
      "text/html": [
       "<div>\n",
       "<style scoped>\n",
       "    .dataframe tbody tr th:only-of-type {\n",
       "        vertical-align: middle;\n",
       "    }\n",
       "\n",
       "    .dataframe tbody tr th {\n",
       "        vertical-align: top;\n",
       "    }\n",
       "\n",
       "    .dataframe thead th {\n",
       "        text-align: right;\n",
       "    }\n",
       "</style>\n",
       "<table border=\"1\" class=\"dataframe\">\n",
       "  <thead>\n",
       "    <tr style=\"text-align: right;\">\n",
       "      <th></th>\n",
       "      <th>User ID</th>\n",
       "      <th>Gender</th>\n",
       "      <th>Age</th>\n",
       "      <th>EstimatedSalary</th>\n",
       "      <th>Purchased</th>\n",
       "      <th>Gender_encoded</th>\n",
       "    </tr>\n",
       "  </thead>\n",
       "  <tbody>\n",
       "    <tr>\n",
       "      <th>0</th>\n",
       "      <td>15624510</td>\n",
       "      <td>Male</td>\n",
       "      <td>19</td>\n",
       "      <td>19000</td>\n",
       "      <td>0</td>\n",
       "      <td>1</td>\n",
       "    </tr>\n",
       "    <tr>\n",
       "      <th>1</th>\n",
       "      <td>15810944</td>\n",
       "      <td>Male</td>\n",
       "      <td>35</td>\n",
       "      <td>20000</td>\n",
       "      <td>0</td>\n",
       "      <td>1</td>\n",
       "    </tr>\n",
       "    <tr>\n",
       "      <th>2</th>\n",
       "      <td>15668575</td>\n",
       "      <td>Female</td>\n",
       "      <td>26</td>\n",
       "      <td>43000</td>\n",
       "      <td>0</td>\n",
       "      <td>0</td>\n",
       "    </tr>\n",
       "    <tr>\n",
       "      <th>3</th>\n",
       "      <td>15603246</td>\n",
       "      <td>Female</td>\n",
       "      <td>27</td>\n",
       "      <td>57000</td>\n",
       "      <td>0</td>\n",
       "      <td>0</td>\n",
       "    </tr>\n",
       "    <tr>\n",
       "      <th>4</th>\n",
       "      <td>15804002</td>\n",
       "      <td>Male</td>\n",
       "      <td>19</td>\n",
       "      <td>76000</td>\n",
       "      <td>0</td>\n",
       "      <td>1</td>\n",
       "    </tr>\n",
       "  </tbody>\n",
       "</table>\n",
       "</div>"
      ],
      "text/plain": [
       "    User ID  Gender  Age  EstimatedSalary  Purchased  Gender_encoded\n",
       "0  15624510    Male   19            19000          0               1\n",
       "1  15810944    Male   35            20000          0               1\n",
       "2  15668575  Female   26            43000          0               0\n",
       "3  15603246  Female   27            57000          0               0\n",
       "4  15804002    Male   19            76000          0               1"
      ]
     },
     "execution_count": 9,
     "metadata": {},
     "output_type": "execute_result"
    }
   ],
   "source": [
    "df.head()"
   ]
  },
  {
   "cell_type": "code",
   "execution_count": 10,
   "id": "44cd526a",
   "metadata": {},
   "outputs": [],
   "source": [
    "x=df[['Gender_encoded','Age','EstimatedSalary']]\n",
    "y=df['Purchased']"
   ]
  },
  {
   "cell_type": "markdown",
   "id": "097abbfc",
   "metadata": {},
   "source": [
    "#### Train test split"
   ]
  },
  {
   "cell_type": "code",
   "execution_count": 11,
   "id": "52d25e8f",
   "metadata": {},
   "outputs": [],
   "source": [
    "from sklearn.model_selection import train_test_split"
   ]
  },
  {
   "cell_type": "code",
   "execution_count": 12,
   "id": "1ee29654",
   "metadata": {},
   "outputs": [],
   "source": [
    "x_train,x_test,y_train,y_test=train_test_split(x,y,test_size=0.25,random_state=0)"
   ]
  },
  {
   "cell_type": "code",
   "execution_count": 13,
   "id": "97fb0c5d",
   "metadata": {},
   "outputs": [
    {
     "name": "stdout",
     "output_type": "stream",
     "text": [
      "Size of training data :  262\n",
      "Size of test data :  88\n"
     ]
    }
   ],
   "source": [
    "print('Size of training data : ',x_train.shape[0])\n",
    "print('Size of test data : ',x_test.shape[0])"
   ]
  },
  {
   "cell_type": "markdown",
   "id": "b551f269",
   "metadata": {},
   "source": [
    "### Normalization"
   ]
  },
  {
   "cell_type": "code",
   "execution_count": 14,
   "id": "8c7fe108",
   "metadata": {},
   "outputs": [],
   "source": [
    "from sklearn.preprocessing import MinMaxScaler"
   ]
  },
  {
   "cell_type": "code",
   "execution_count": 15,
   "id": "15353ad8",
   "metadata": {},
   "outputs": [
    {
     "data": {
      "text/plain": [
       "array([[0.21428571, 0.51111111],\n",
       "       [0.26190476, 0.5037037 ],\n",
       "       [0.5952381 , 0.87407407],\n",
       "       [0.11904762, 0.03703704],\n",
       "       [0.57142857, 0.42962963],\n",
       "       [0.23809524, 0.12592593],\n",
       "       [0.02380952, 0.08148148],\n",
       "       [0.4047619 , 0.44444444],\n",
       "       [0.0952381 , 0.48888889],\n",
       "       [0.61904762, 0.17777778],\n",
       "       [0.71428571, 0.77037037],\n",
       "       [0.0952381 , 0.35555556],\n",
       "       [0.45238095, 0.28148148],\n",
       "       [0.28571429, 0.53333333],\n",
       "       [0.19047619, 0.        ],\n",
       "       [0.04761905, 0.4962963 ],\n",
       "       [0.07142857, 0.39259259],\n",
       "       [0.42857143, 0.33333333],\n",
       "       [0.66666667, 0.6       ],\n",
       "       [0.52380952, 0.31111111],\n",
       "       [0.54761905, 0.27407407],\n",
       "       [0.76190476, 0.15555556],\n",
       "       [0.28571429, 0.25185185],\n",
       "       [0.35714286, 0.99259259],\n",
       "       [0.19047619, 0.        ],\n",
       "       [0.73809524, 0.0962963 ],\n",
       "       [0.26190476, 0.48148148],\n",
       "       [0.4047619 , 0.25925926],\n",
       "       [0.        , 0.27407407],\n",
       "       [0.11904762, 0.0962963 ],\n",
       "       [0.97619048, 0.5037037 ],\n",
       "       [0.21428571, 0.03703704],\n",
       "       [0.21428571, 0.31851852],\n",
       "       [0.57142857, 0.48148148],\n",
       "       [0.14285714, 0.2962963 ],\n",
       "       [0.21428571, 0.54074074],\n",
       "       [0.97619048, 0.2       ],\n",
       "       [0.28571429, 0.47407407],\n",
       "       [0.23809524, 0.53333333],\n",
       "       [0.64285714, 0.05185185],\n",
       "       [0.97619048, 0.54074074],\n",
       "       [0.30952381, 0.14074074],\n",
       "       [0.19047619, 0.48148148],\n",
       "       [0.69047619, 0.66666667],\n",
       "       [0.64285714, 0.47407407],\n",
       "       [0.33333333, 0.52592593],\n",
       "       [0.23809524, 0.32592593],\n",
       "       [0.95238095, 0.63703704],\n",
       "       [0.07142857, 0.54074074],\n",
       "       [0.45238095, 0.2962963 ],\n",
       "       [0.23809524, 0.2962963 ],\n",
       "       [0.47619048, 0.34074074],\n",
       "       [0.47619048, 0.2962963 ],\n",
       "       [0.33333333, 1.        ],\n",
       "       [0.14285714, 0.31851852],\n",
       "       [0.88095238, 0.85185185],\n",
       "       [0.42857143, 0.25925926],\n",
       "       [0.95238095, 0.59259259],\n",
       "       [0.33333333, 0.02222222],\n",
       "       [0.33333333, 0.75555556],\n",
       "       [0.76190476, 0.21481481],\n",
       "       [0.92857143, 0.33333333],\n",
       "       [0.11904762, 0.24444444],\n",
       "       [0.78571429, 0.97037037],\n",
       "       [0.38095238, 0.07407407],\n",
       "       [0.19047619, 0.14814815],\n",
       "       [0.19047619, 0.11111111],\n",
       "       [0.42857143, 0.44444444],\n",
       "       [0.97619048, 0.94814815],\n",
       "       [0.33333333, 0.77777778],\n",
       "       [0.71428571, 0.55555556],\n",
       "       [0.83333333, 0.94814815],\n",
       "       [0.52380952, 0.33333333],\n",
       "       [0.69047619, 0.25185185],\n",
       "       [0.11904762, 0.35555556],\n",
       "       [0.47619048, 0.25925926],\n",
       "       [0.30952381, 0.54814815],\n",
       "       [0.45238095, 0.40740741],\n",
       "       [0.45238095, 0.46666667],\n",
       "       [0.38095238, 0.74074074],\n",
       "       [1.        , 0.64444444],\n",
       "       [0.69047619, 0.23703704],\n",
       "       [0.45238095, 0.34814815],\n",
       "       [0.71428571, 0.19259259],\n",
       "       [0.42857143, 0.95555556],\n",
       "       [0.66666667, 0.4962963 ],\n",
       "       [0.02380952, 0.51851852],\n",
       "       [0.42857143, 0.82222222]])"
      ]
     },
     "execution_count": 15,
     "metadata": {},
     "output_type": "execute_result"
    }
   ],
   "source": [
    "min_max=MinMaxScaler()\n",
    "min_max.fit(x_train[['Age','EstimatedSalary']])\n",
    "train_transformed=min_max.transform(x_train[['Age','EstimatedSalary']])\n",
    "test_transformed=min_max.transform(x_test[['Age','EstimatedSalary']])\n",
    "test_transformed"
   ]
  },
  {
   "cell_type": "code",
   "execution_count": 16,
   "id": "c29a1cfb",
   "metadata": {},
   "outputs": [
    {
     "data": {
      "text/html": [
       "<div>\n",
       "<style scoped>\n",
       "    .dataframe tbody tr th:only-of-type {\n",
       "        vertical-align: middle;\n",
       "    }\n",
       "\n",
       "    .dataframe tbody tr th {\n",
       "        vertical-align: top;\n",
       "    }\n",
       "\n",
       "    .dataframe thead th {\n",
       "        text-align: right;\n",
       "    }\n",
       "</style>\n",
       "<table border=\"1\" class=\"dataframe\">\n",
       "  <thead>\n",
       "    <tr style=\"text-align: right;\">\n",
       "      <th></th>\n",
       "      <th>Gender_encoded</th>\n",
       "      <th>Age</th>\n",
       "      <th>EstimatedSalary</th>\n",
       "      <th>Age_normalized</th>\n",
       "      <th>EstimatedSalary_normalized</th>\n",
       "    </tr>\n",
       "  </thead>\n",
       "  <tbody>\n",
       "    <tr>\n",
       "      <th>66</th>\n",
       "      <td>1</td>\n",
       "      <td>24</td>\n",
       "      <td>19000</td>\n",
       "      <td>0.142857</td>\n",
       "      <td>0.029630</td>\n",
       "    </tr>\n",
       "    <tr>\n",
       "      <th>126</th>\n",
       "      <td>1</td>\n",
       "      <td>42</td>\n",
       "      <td>65000</td>\n",
       "      <td>0.571429</td>\n",
       "      <td>0.370370</td>\n",
       "    </tr>\n",
       "    <tr>\n",
       "      <th>12</th>\n",
       "      <td>1</td>\n",
       "      <td>20</td>\n",
       "      <td>86000</td>\n",
       "      <td>0.047619</td>\n",
       "      <td>0.525926</td>\n",
       "    </tr>\n",
       "    <tr>\n",
       "      <th>221</th>\n",
       "      <td>1</td>\n",
       "      <td>35</td>\n",
       "      <td>91000</td>\n",
       "      <td>0.404762</td>\n",
       "      <td>0.562963</td>\n",
       "    </tr>\n",
       "    <tr>\n",
       "      <th>316</th>\n",
       "      <td>0</td>\n",
       "      <td>54</td>\n",
       "      <td>104000</td>\n",
       "      <td>0.857143</td>\n",
       "      <td>0.659259</td>\n",
       "    </tr>\n",
       "  </tbody>\n",
       "</table>\n",
       "</div>"
      ],
      "text/plain": [
       "     Gender_encoded  Age  EstimatedSalary  Age_normalized  \\\n",
       "66                1   24            19000        0.142857   \n",
       "126               1   42            65000        0.571429   \n",
       "12                1   20            86000        0.047619   \n",
       "221               1   35            91000        0.404762   \n",
       "316               0   54           104000        0.857143   \n",
       "\n",
       "     EstimatedSalary_normalized  \n",
       "66                     0.029630  \n",
       "126                    0.370370  \n",
       "12                     0.525926  \n",
       "221                    0.562963  \n",
       "316                    0.659259  "
      ]
     },
     "execution_count": 16,
     "metadata": {},
     "output_type": "execute_result"
    }
   ],
   "source": [
    "x_train['Age_normalized']=train_transformed[:,0]\n",
    "x_train['EstimatedSalary_normalized']=train_transformed[:,1]\n",
    "x_train.head()"
   ]
  },
  {
   "cell_type": "code",
   "execution_count": 17,
   "id": "98b720ac",
   "metadata": {},
   "outputs": [
    {
     "data": {
      "text/html": [
       "<div>\n",
       "<style scoped>\n",
       "    .dataframe tbody tr th:only-of-type {\n",
       "        vertical-align: middle;\n",
       "    }\n",
       "\n",
       "    .dataframe tbody tr th {\n",
       "        vertical-align: top;\n",
       "    }\n",
       "\n",
       "    .dataframe thead th {\n",
       "        text-align: right;\n",
       "    }\n",
       "</style>\n",
       "<table border=\"1\" class=\"dataframe\">\n",
       "  <thead>\n",
       "    <tr style=\"text-align: right;\">\n",
       "      <th></th>\n",
       "      <th>Gender_encoded</th>\n",
       "      <th>Age</th>\n",
       "      <th>EstimatedSalary</th>\n",
       "      <th>Age_normalized</th>\n",
       "      <th>EstimatedSalary_normalized</th>\n",
       "    </tr>\n",
       "  </thead>\n",
       "  <tbody>\n",
       "    <tr>\n",
       "      <th>6</th>\n",
       "      <td>0</td>\n",
       "      <td>27</td>\n",
       "      <td>84000</td>\n",
       "      <td>0.214286</td>\n",
       "      <td>0.511111</td>\n",
       "    </tr>\n",
       "    <tr>\n",
       "      <th>52</th>\n",
       "      <td>0</td>\n",
       "      <td>29</td>\n",
       "      <td>83000</td>\n",
       "      <td>0.261905</td>\n",
       "      <td>0.503704</td>\n",
       "    </tr>\n",
       "    <tr>\n",
       "      <th>270</th>\n",
       "      <td>0</td>\n",
       "      <td>43</td>\n",
       "      <td>133000</td>\n",
       "      <td>0.595238</td>\n",
       "      <td>0.874074</td>\n",
       "    </tr>\n",
       "    <tr>\n",
       "      <th>45</th>\n",
       "      <td>1</td>\n",
       "      <td>23</td>\n",
       "      <td>20000</td>\n",
       "      <td>0.119048</td>\n",
       "      <td>0.037037</td>\n",
       "    </tr>\n",
       "    <tr>\n",
       "      <th>296</th>\n",
       "      <td>1</td>\n",
       "      <td>42</td>\n",
       "      <td>73000</td>\n",
       "      <td>0.571429</td>\n",
       "      <td>0.429630</td>\n",
       "    </tr>\n",
       "  </tbody>\n",
       "</table>\n",
       "</div>"
      ],
      "text/plain": [
       "     Gender_encoded  Age  EstimatedSalary  Age_normalized  \\\n",
       "6                 0   27            84000        0.214286   \n",
       "52                0   29            83000        0.261905   \n",
       "270               0   43           133000        0.595238   \n",
       "45                1   23            20000        0.119048   \n",
       "296               1   42            73000        0.571429   \n",
       "\n",
       "     EstimatedSalary_normalized  \n",
       "6                      0.511111  \n",
       "52                     0.503704  \n",
       "270                    0.874074  \n",
       "45                     0.037037  \n",
       "296                    0.429630  "
      ]
     },
     "execution_count": 17,
     "metadata": {},
     "output_type": "execute_result"
    }
   ],
   "source": [
    "x_test['Age_normalized']=test_transformed[:,0]\n",
    "x_test['EstimatedSalary_normalized']=test_transformed[:,1]\n",
    "x_test.head()"
   ]
  },
  {
   "cell_type": "markdown",
   "id": "4e9459c7",
   "metadata": {},
   "source": [
    "## Fitting logistic regression model "
   ]
  },
  {
   "cell_type": "markdown",
   "id": "6214da3e",
   "metadata": {},
   "source": [
    "#### 1. Using age only"
   ]
  },
  {
   "cell_type": "code",
   "execution_count": 18,
   "id": "8a4f49be",
   "metadata": {},
   "outputs": [],
   "source": [
    "from sklearn.linear_model import LogisticRegression"
   ]
  },
  {
   "cell_type": "code",
   "execution_count": 19,
   "id": "8f887ec2",
   "metadata": {},
   "outputs": [
    {
     "data": {
      "text/plain": [
       "LogisticRegression()"
      ]
     },
     "execution_count": 19,
     "metadata": {},
     "output_type": "execute_result"
    }
   ],
   "source": [
    "logic_model=LogisticRegression()\n",
    "logic_model.fit(x_train[['Age_normalized']],y_train)"
   ]
  },
  {
   "cell_type": "code",
   "execution_count": 20,
   "id": "92dcfc2a",
   "metadata": {},
   "outputs": [
    {
     "data": {
      "text/plain": [
       "array([0, 0, 0, 0, 0, 0, 0, 0, 0, 0, 1, 0, 0, 0, 0, 0, 0, 0, 1, 0, 0, 1,\n",
       "       0, 0, 0, 1, 0, 0, 0, 0, 1, 0, 0, 0, 0, 0, 1, 0, 0, 0, 1, 0, 0, 1,\n",
       "       0, 0, 0, 1, 0, 0, 0, 0, 0, 0, 0, 1, 0, 1, 0, 0, 1, 1, 0, 1, 0, 0,\n",
       "       0, 0, 1, 0, 1, 1, 0, 1, 0, 0, 0, 0, 0, 0, 1, 1, 0, 1, 0, 1, 0, 0],\n",
       "      dtype=int64)"
      ]
     },
     "execution_count": 20,
     "metadata": {},
     "output_type": "execute_result"
    }
   ],
   "source": [
    "predictions=logic_model.predict(x_test[['Age_normalized']])\n",
    "predictions"
   ]
  },
  {
   "cell_type": "code",
   "execution_count": 21,
   "id": "92d442ff",
   "metadata": {},
   "outputs": [],
   "source": [
    "from sklearn.metrics import accuracy_score"
   ]
  },
  {
   "cell_type": "code",
   "execution_count": 22,
   "id": "52f5b810",
   "metadata": {},
   "outputs": [
    {
     "name": "stdout",
     "output_type": "stream",
     "text": [
      "Test accuracy : 0.8295454545454546\n"
     ]
    }
   ],
   "source": [
    "print('Test accuracy :',logic_model.score(x_test[['Age_normalized']],y_test))"
   ]
  },
  {
   "cell_type": "code",
   "execution_count": 23,
   "id": "d2799124",
   "metadata": {},
   "outputs": [
    {
     "name": "stdout",
     "output_type": "stream",
     "text": [
      "Training accuracy : 0.8282442748091603\n"
     ]
    }
   ],
   "source": [
    "train_predictions=logic_model.predict(x_train[['Age_normalized']])\n",
    "print('Training accuracy :',logic_model.score(x_train[['Age_normalized']],y_train))"
   ]
  },
  {
   "cell_type": "markdown",
   "id": "a4a2de5c",
   "metadata": {},
   "source": [
    "### Model 2. Using all normalized and encoded features"
   ]
  },
  {
   "cell_type": "code",
   "execution_count": 24,
   "id": "2a686670",
   "metadata": {},
   "outputs": [
    {
     "data": {
      "text/plain": [
       "LogisticRegression()"
      ]
     },
     "execution_count": 24,
     "metadata": {},
     "output_type": "execute_result"
    }
   ],
   "source": [
    "logic_model2=LogisticRegression()\n",
    "logic_model2.fit(x_train[['Gender_encoded','Age_normalized','EstimatedSalary_normalized']],y_train)"
   ]
  },
  {
   "cell_type": "code",
   "execution_count": 25,
   "id": "83270fd0",
   "metadata": {},
   "outputs": [
    {
     "data": {
      "text/plain": [
       "array([0, 0, 1, 0, 0, 0, 0, 0, 0, 0, 1, 0, 0, 0, 0, 0, 0, 0, 1, 0, 0, 0,\n",
       "       0, 1, 0, 0, 0, 0, 0, 0, 1, 0, 0, 0, 0, 0, 1, 0, 0, 0, 1, 0, 0, 1,\n",
       "       0, 0, 0, 1, 0, 0, 0, 0, 0, 1, 0, 1, 0, 1, 0, 0, 0, 1, 0, 1, 0, 0,\n",
       "       0, 0, 1, 0, 1, 1, 0, 0, 0, 0, 0, 0, 0, 0, 1, 0, 0, 0, 1, 1, 0, 1],\n",
       "      dtype=int64)"
      ]
     },
     "execution_count": 25,
     "metadata": {},
     "output_type": "execute_result"
    }
   ],
   "source": [
    "predictions=logic_model2.predict(x_test[['Gender_encoded','Age_normalized','EstimatedSalary_normalized']])\n",
    "predictions"
   ]
  },
  {
   "cell_type": "code",
   "execution_count": 26,
   "id": "1a4f7304",
   "metadata": {},
   "outputs": [
    {
     "name": "stdout",
     "output_type": "stream",
     "text": [
      "Test accuracy : 0.8409090909090909\n"
     ]
    }
   ],
   "source": [
    "print('Test accuracy :',logic_model2.score(x_test[['Gender_encoded','Age_normalized','EstimatedSalary_normalized']],y_test))"
   ]
  },
  {
   "cell_type": "code",
   "execution_count": 27,
   "id": "affa50a7",
   "metadata": {},
   "outputs": [
    {
     "name": "stdout",
     "output_type": "stream",
     "text": [
      "Training accuracy : 0.8549618320610687\n"
     ]
    }
   ],
   "source": [
    "train_predictions=logic_model2.predict(x_train[['Gender_encoded','Age_normalized','EstimatedSalary_normalized']])\n",
    "print('Training accuracy :',logic_model2.score(x_train[['Gender_encoded','Age_normalized','EstimatedSalary_normalized']],y_train))"
   ]
  },
  {
   "cell_type": "markdown",
   "id": "70066ddf",
   "metadata": {},
   "source": [
    "## Getting probabilities"
   ]
  },
  {
   "cell_type": "code",
   "execution_count": 28,
   "id": "d050cbc0",
   "metadata": {},
   "outputs": [
    {
     "data": {
      "text/html": [
       "<div>\n",
       "<style scoped>\n",
       "    .dataframe tbody tr th:only-of-type {\n",
       "        vertical-align: middle;\n",
       "    }\n",
       "\n",
       "    .dataframe tbody tr th {\n",
       "        vertical-align: top;\n",
       "    }\n",
       "\n",
       "    .dataframe thead th {\n",
       "        text-align: right;\n",
       "    }\n",
       "</style>\n",
       "<table border=\"1\" class=\"dataframe\">\n",
       "  <thead>\n",
       "    <tr style=\"text-align: right;\">\n",
       "      <th></th>\n",
       "      <th>Gender_encoded</th>\n",
       "      <th>Age_normalized</th>\n",
       "      <th>EstimatedSalary_normalized</th>\n",
       "    </tr>\n",
       "  </thead>\n",
       "  <tbody>\n",
       "    <tr>\n",
       "      <th>6</th>\n",
       "      <td>0</td>\n",
       "      <td>0.214286</td>\n",
       "      <td>0.511111</td>\n",
       "    </tr>\n",
       "    <tr>\n",
       "      <th>52</th>\n",
       "      <td>0</td>\n",
       "      <td>0.261905</td>\n",
       "      <td>0.503704</td>\n",
       "    </tr>\n",
       "    <tr>\n",
       "      <th>270</th>\n",
       "      <td>0</td>\n",
       "      <td>0.595238</td>\n",
       "      <td>0.874074</td>\n",
       "    </tr>\n",
       "    <tr>\n",
       "      <th>45</th>\n",
       "      <td>1</td>\n",
       "      <td>0.119048</td>\n",
       "      <td>0.037037</td>\n",
       "    </tr>\n",
       "    <tr>\n",
       "      <th>296</th>\n",
       "      <td>1</td>\n",
       "      <td>0.571429</td>\n",
       "      <td>0.429630</td>\n",
       "    </tr>\n",
       "    <tr>\n",
       "      <th>...</th>\n",
       "      <td>...</td>\n",
       "      <td>...</td>\n",
       "      <td>...</td>\n",
       "    </tr>\n",
       "    <tr>\n",
       "      <th>22</th>\n",
       "      <td>1</td>\n",
       "      <td>0.714286</td>\n",
       "      <td>0.192593</td>\n",
       "    </tr>\n",
       "    <tr>\n",
       "      <th>261</th>\n",
       "      <td>1</td>\n",
       "      <td>0.428571</td>\n",
       "      <td>0.955556</td>\n",
       "    </tr>\n",
       "    <tr>\n",
       "      <th>238</th>\n",
       "      <td>0</td>\n",
       "      <td>0.666667</td>\n",
       "      <td>0.496296</td>\n",
       "    </tr>\n",
       "    <tr>\n",
       "      <th>140</th>\n",
       "      <td>1</td>\n",
       "      <td>0.023810</td>\n",
       "      <td>0.518519</td>\n",
       "    </tr>\n",
       "    <tr>\n",
       "      <th>226</th>\n",
       "      <td>0</td>\n",
       "      <td>0.428571</td>\n",
       "      <td>0.822222</td>\n",
       "    </tr>\n",
       "  </tbody>\n",
       "</table>\n",
       "<p>88 rows × 3 columns</p>\n",
       "</div>"
      ],
      "text/plain": [
       "     Gender_encoded  Age_normalized  EstimatedSalary_normalized\n",
       "6                 0        0.214286                    0.511111\n",
       "52                0        0.261905                    0.503704\n",
       "270               0        0.595238                    0.874074\n",
       "45                1        0.119048                    0.037037\n",
       "296               1        0.571429                    0.429630\n",
       "..              ...             ...                         ...\n",
       "22                1        0.714286                    0.192593\n",
       "261               1        0.428571                    0.955556\n",
       "238               0        0.666667                    0.496296\n",
       "140               1        0.023810                    0.518519\n",
       "226               0        0.428571                    0.822222\n",
       "\n",
       "[88 rows x 3 columns]"
      ]
     },
     "execution_count": 28,
     "metadata": {},
     "output_type": "execute_result"
    }
   ],
   "source": [
    "x_test[['Gender_encoded','Age_normalized','EstimatedSalary_normalized']]"
   ]
  },
  {
   "cell_type": "code",
   "execution_count": 29,
   "id": "07dc4b92",
   "metadata": {},
   "outputs": [
    {
     "data": {
      "text/plain": [
       "Gender_encoded                0.000000\n",
       "Age_normalized                0.214286\n",
       "EstimatedSalary_normalized    0.511111\n",
       "Name: 6, dtype: float64"
      ]
     },
     "execution_count": 29,
     "metadata": {},
     "output_type": "execute_result"
    }
   ],
   "source": [
    "x_test[['Gender_encoded','Age_normalized','EstimatedSalary_normalized']].iloc[0,:]"
   ]
  },
  {
   "cell_type": "code",
   "execution_count": 30,
   "id": "a74045d8",
   "metadata": {},
   "outputs": [
    {
     "name": "stderr",
     "output_type": "stream",
     "text": [
      "C:\\Users\\Sai\\anaconda3\\lib\\site-packages\\sklearn\\base.py:450: UserWarning: X does not have valid feature names, but LogisticRegression was fitted with feature names\n",
      "  warnings.warn(\n"
     ]
    },
    {
     "data": {
      "text/plain": [
       "array([[0.83872664, 0.16127336]])"
      ]
     },
     "execution_count": 30,
     "metadata": {},
     "output_type": "execute_result"
    }
   ],
   "source": [
    "logic_model2.predict_proba(x_test[['Gender_encoded','Age_normalized','EstimatedSalary_normalized']].iloc[0,:].values.reshape(1,-1))"
   ]
  },
  {
   "cell_type": "code",
   "execution_count": 31,
   "id": "de497dc3",
   "metadata": {},
   "outputs": [
    {
     "data": {
      "text/plain": [
       "array([[0.83872664, 0.16127336],\n",
       "       [0.81245368, 0.18754632],\n",
       "       [0.24197868, 0.75802132],\n",
       "       [0.97502973, 0.02497027],\n",
       "       [0.61581155, 0.38418845],\n",
       "       [0.94633917, 0.05366083],\n",
       "       [0.97864689, 0.02135311],\n",
       "       [0.75885279, 0.24114721],\n",
       "       [0.91261066, 0.08738934],\n",
       "       [0.7203495 , 0.2796505 ],\n",
       "       [0.20904681, 0.79095319],\n",
       "       [0.93422229, 0.06577771],\n",
       "       [0.81048239, 0.18951761],\n",
       "       [0.799286  , 0.200714  ],\n",
       "       [0.96988747, 0.03011253],\n",
       "       [0.91808548, 0.08191452],\n",
       "       [0.93338676, 0.06661324],\n",
       "       [0.80107261, 0.19892739],\n",
       "       [0.35697842, 0.64302158],\n",
       "       [0.7409322 , 0.2590678 ],\n",
       "       [0.74351836, 0.25648164],\n",
       "       [0.59819337, 0.40180663],\n",
       "       [0.90615763, 0.09384237],\n",
       "       [0.38118745, 0.61881255],\n",
       "       [0.96643616, 0.03356384],\n",
       "       [0.68987213, 0.31012787],\n",
       "       [0.83862518, 0.16137482],\n",
       "       [0.84930192, 0.15069808],\n",
       "       [0.96875132, 0.03124868],\n",
       "       [0.96663243, 0.03336757],\n",
       "       [0.16453398, 0.83546602],\n",
       "       [0.96276862, 0.03723138],\n",
       "       [0.90506631, 0.09493369],\n",
       "       [0.57655367, 0.42344633],\n",
       "       [0.9330085 , 0.0669915 ],\n",
       "       [0.8412581 , 0.1587419 ],\n",
       "       [0.33867929, 0.66132071],\n",
       "       [0.81095702, 0.18904298],\n",
       "       [0.81394122, 0.18605878],\n",
       "       [0.79437459, 0.20562541],\n",
       "       [0.14913268, 0.85086732],\n",
       "       [0.91699001, 0.08300999],\n",
       "       [0.87622144, 0.12377856],\n",
       "       [0.31233071, 0.68766929],\n",
       "       [0.50571489, 0.49428511],\n",
       "       [0.74781905, 0.25218095],\n",
       "       [0.90383338, 0.09616662],\n",
       "       [0.12549277, 0.87450723],\n",
       "       [0.90769416, 0.09230584],\n",
       "       [0.80321786, 0.19678214],\n",
       "       [0.90218377, 0.09781623],\n",
       "       [0.76199384, 0.23800616],\n",
       "       [0.76699598, 0.23300402],\n",
       "       [0.40016194, 0.59983806],\n",
       "       [0.93559509, 0.06440491],\n",
       "       [0.09043823, 0.90956177],\n",
       "       [0.8196582 , 0.1803418 ],\n",
       "       [0.14166179, 0.85833821],\n",
       "       [0.94181215, 0.05818785],\n",
       "       [0.59011029, 0.40988971],\n",
       "       [0.55267075, 0.44732925],\n",
       "       [0.31634452, 0.68365548],\n",
       "       [0.94784865, 0.05215135],\n",
       "       [0.0937124 , 0.9062876 ],\n",
       "       [0.90911115, 0.09088885],\n",
       "       [0.9475479 , 0.0524521 ],\n",
       "       [0.95781529, 0.04218471],\n",
       "       [0.71733841, 0.28266159],\n",
       "       [0.05159452, 0.94840548],\n",
       "       [0.60026411, 0.39973589],\n",
       "       [0.36757508, 0.63242492],\n",
       "       [0.08277261, 0.91722739],\n",
       "       [0.70449974, 0.29550026],\n",
       "       [0.59965093, 0.40034907],\n",
       "       [0.93477578, 0.06522422],\n",
       "       [0.78717379, 0.21282621],\n",
       "       [0.75401024, 0.24598976],\n",
       "       [0.74209521, 0.25790479],\n",
       "       [0.68099296, 0.31900704],\n",
       "       [0.57860577, 0.42139423],\n",
       "       [0.11317528, 0.88682472],\n",
       "       [0.61078895, 0.38921105],\n",
       "       [0.75607687, 0.24392313],\n",
       "       [0.64554853, 0.35445147],\n",
       "       [0.36239556, 0.63760444],\n",
       "       [0.43483018, 0.56516982],\n",
       "       [0.92836151, 0.07163849],\n",
       "       [0.43598219, 0.56401781]])"
      ]
     },
     "execution_count": 31,
     "metadata": {},
     "output_type": "execute_result"
    }
   ],
   "source": [
    "pred_probs=logic_model2.predict_proba(x_test[['Gender_encoded','Age_normalized','EstimatedSalary_normalized']])\n",
    "pred_probs"
   ]
  },
  {
   "cell_type": "markdown",
   "id": "c12b1d27",
   "metadata": {},
   "source": [
    "## Log loss"
   ]
  },
  {
   "cell_type": "code",
   "execution_count": 32,
   "id": "3e07b2f8",
   "metadata": {},
   "outputs": [],
   "source": [
    "from sklearn.metrics import log_loss"
   ]
  },
  {
   "cell_type": "code",
   "execution_count": 33,
   "id": "e0ccbda0",
   "metadata": {},
   "outputs": [
    {
     "name": "stdout",
     "output_type": "stream",
     "text": [
      "Model log loss : 0.3601701972105401\n"
     ]
    }
   ],
   "source": [
    "print('Model log loss :',log_loss(y_test,pred_probs))"
   ]
  },
  {
   "cell_type": "markdown",
   "id": "43fe89f4",
   "metadata": {},
   "source": [
    "## ROC-AUC curve"
   ]
  },
  {
   "cell_type": "code",
   "execution_count": 34,
   "id": "4d1f1abf",
   "metadata": {},
   "outputs": [],
   "source": [
    "from sklearn.metrics import roc_curve,roc_auc_score"
   ]
  },
  {
   "cell_type": "code",
   "execution_count": 35,
   "id": "f72ccc19",
   "metadata": {},
   "outputs": [
    {
     "data": {
      "text/plain": [
       "array([0.16127336, 0.18754632, 0.75802132, 0.02497027, 0.38418845,\n",
       "       0.05366083, 0.02135311, 0.24114721, 0.08738934, 0.2796505 ,\n",
       "       0.79095319, 0.06577771, 0.18951761, 0.200714  , 0.03011253,\n",
       "       0.08191452, 0.06661324, 0.19892739, 0.64302158, 0.2590678 ,\n",
       "       0.25648164, 0.40180663, 0.09384237, 0.61881255, 0.03356384,\n",
       "       0.31012787, 0.16137482, 0.15069808, 0.03124868, 0.03336757,\n",
       "       0.83546602, 0.03723138, 0.09493369, 0.42344633, 0.0669915 ,\n",
       "       0.1587419 , 0.66132071, 0.18904298, 0.18605878, 0.20562541,\n",
       "       0.85086732, 0.08300999, 0.12377856, 0.68766929, 0.49428511,\n",
       "       0.25218095, 0.09616662, 0.87450723, 0.09230584, 0.19678214,\n",
       "       0.09781623, 0.23800616, 0.23300402, 0.59983806, 0.06440491,\n",
       "       0.90956177, 0.1803418 , 0.85833821, 0.05818785, 0.40988971,\n",
       "       0.44732925, 0.68365548, 0.05215135, 0.9062876 , 0.09088885,\n",
       "       0.0524521 , 0.04218471, 0.28266159, 0.94840548, 0.39973589,\n",
       "       0.63242492, 0.91722739, 0.29550026, 0.40034907, 0.06522422,\n",
       "       0.21282621, 0.24598976, 0.25790479, 0.31900704, 0.42139423,\n",
       "       0.88682472, 0.38921105, 0.24392313, 0.35445147, 0.63760444,\n",
       "       0.56516982, 0.07163849, 0.56401781])"
      ]
     },
     "execution_count": 35,
     "metadata": {},
     "output_type": "execute_result"
    }
   ],
   "source": [
    "pred_probs[:,1]"
   ]
  },
  {
   "cell_type": "code",
   "execution_count": 36,
   "id": "8f574f6c",
   "metadata": {},
   "outputs": [
    {
     "data": {
      "text/plain": [
       "(array([0.        , 0.        , 0.        , 0.01587302, 0.01587302,\n",
       "        0.03174603, 0.03174603, 0.06349206, 0.06349206, 0.07936508,\n",
       "        0.07936508, 0.15873016, 0.15873016, 0.17460317, 0.17460317,\n",
       "        0.23809524, 0.23809524, 0.36507937, 0.36507937, 1.        ]),\n",
       " array([0.  , 0.04, 0.32, 0.32, 0.36, 0.36, 0.44, 0.44, 0.6 , 0.6 , 0.64,\n",
       "        0.64, 0.76, 0.76, 0.92, 0.92, 0.96, 0.96, 1.  , 1.  ]),\n",
       " array([1.94840548, 0.94840548, 0.85086732, 0.83546602, 0.79095319,\n",
       "        0.75802132, 0.68365548, 0.64302158, 0.59983806, 0.56516982,\n",
       "        0.56401781, 0.40988971, 0.39973589, 0.38921105, 0.31012787,\n",
       "        0.2590678 , 0.25790479, 0.21282621, 0.20562541, 0.02135311]))"
      ]
     },
     "execution_count": 36,
     "metadata": {},
     "output_type": "execute_result"
    }
   ],
   "source": [
    "fpr,tpr,thresholds=roc_curve(y_test,pred_probs[:,1])\n",
    "fpr,tpr,thresholds"
   ]
  },
  {
   "cell_type": "code",
   "execution_count": 37,
   "id": "78db4572",
   "metadata": {},
   "outputs": [
    {
     "name": "stdout",
     "output_type": "stream",
     "text": [
      "Model AUC: 0.9123809523809523\n"
     ]
    }
   ],
   "source": [
    "print('Model AUC:',roc_auc_score(y_test,pred_probs[:,1]))"
   ]
  },
  {
   "cell_type": "markdown",
   "id": "51da3e2e",
   "metadata": {},
   "source": [
    "## Plotting ROC"
   ]
  },
  {
   "cell_type": "code",
   "execution_count": 38,
   "id": "f7d4342b",
   "metadata": {},
   "outputs": [
    {
     "data": {
      "image/png": "[encoded data removed]",
      "text/plain": [
       "<Figure size 640x480 with 1 Axes>"
      ]
     },
     "metadata": {},
     "output_type": "display_data"
    }
   ],
   "source": [
    "fpr,tpr,_=roc_curve(y_test,pred_probs[:,1])\n",
    "auc=roc_auc_score(y_test,pred_probs[:,1])\n",
    "plt.plot(fpr,tpr,label='data 1,auc='+str(auc))\n",
    "plt.legend(loc=4)\n",
    "plt.show()"
   ]
  },
  {
   "cell_type": "code",
   "execution_count": null,
   "id": "e23d97f3",
   "metadata": {},
   "outputs": [],
   "source": []
  },
  {
   "cell_type": "code",
   "execution_count": null,
   "id": "ef5ca7f5",
   "metadata": {},
   "outputs": [],
   "source": []
  },
  {
   "cell_type": "code",
   "execution_count": null,
   "id": "58ad96c1",
   "metadata": {},
   "outputs": [],
   "source": []
  }
 ],
 "metadata": {
  "kernelspec": {
   "display_name": "Python 3 (ipykernel)",
   "language": "python",
   "name": "python3"
  },
  "language_info": {
   "codemirror_mode": {
    "name": "ipython",
    "version": 3
   },
   "file_extension": ".py",
   "mimetype": "text/x-python",
   "name": "python",
   "nbconvert_exporter": "python",
   "pygments_lexer": "ipython3",
   "version": "3.9.13"
  }
 },
 "nbformat": 4,
 "nbformat_minor": 5
}
