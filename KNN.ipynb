{
 "cells": [
  {
   "cell_type": "code",
   "execution_count": 1,
   "id": "e03f5562",
   "metadata": {},
   "outputs": [],
   "source": [
    "import numpy as np\n",
    "import pandas as pd\n",
    "import matplotlib.pyplot as plt\n",
    "%matplotlib inline"
   ]
  },
  {
   "cell_type": "code",
   "execution_count": 2,
   "id": "724a9bd2",
   "metadata": {},
   "outputs": [],
   "source": [
    "import warnings\n",
    "warnings.filterwarnings('ignore')"
   ]
  },
  {
   "cell_type": "code",
   "execution_count": 3,
   "id": "4d7bec12",
   "metadata": {},
   "outputs": [
    {
     "data": {
      "text/html": [
       "<div>\n",
       "<style scoped>\n",
       "    .dataframe tbody tr th:only-of-type {\n",
       "        vertical-align: middle;\n",
       "    }\n",
       "\n",
       "    .dataframe tbody tr th {\n",
       "        vertical-align: top;\n",
       "    }\n",
       "\n",
       "    .dataframe thead th {\n",
       "        text-align: right;\n",
       "    }\n",
       "</style>\n",
       "<table border=\"1\" class=\"dataframe\">\n",
       "  <thead>\n",
       "    <tr style=\"text-align: right;\">\n",
       "      <th></th>\n",
       "      <th>default</th>\n",
       "      <th>student</th>\n",
       "      <th>balance</th>\n",
       "      <th>income</th>\n",
       "    </tr>\n",
       "  </thead>\n",
       "  <tbody>\n",
       "    <tr>\n",
       "      <th>0</th>\n",
       "      <td>No</td>\n",
       "      <td>No</td>\n",
       "      <td>729.526495</td>\n",
       "      <td>44361.62507</td>\n",
       "    </tr>\n",
       "    <tr>\n",
       "      <th>1</th>\n",
       "      <td>No</td>\n",
       "      <td>Yes</td>\n",
       "      <td>817.180407</td>\n",
       "      <td>12106.13470</td>\n",
       "    </tr>\n",
       "    <tr>\n",
       "      <th>2</th>\n",
       "      <td>No</td>\n",
       "      <td>No</td>\n",
       "      <td>1073.549164</td>\n",
       "      <td>31767.13895</td>\n",
       "    </tr>\n",
       "    <tr>\n",
       "      <th>3</th>\n",
       "      <td>No</td>\n",
       "      <td>No</td>\n",
       "      <td>529.250605</td>\n",
       "      <td>35704.49394</td>\n",
       "    </tr>\n",
       "    <tr>\n",
       "      <th>4</th>\n",
       "      <td>No</td>\n",
       "      <td>No</td>\n",
       "      <td>785.655883</td>\n",
       "      <td>38463.49588</td>\n",
       "    </tr>\n",
       "  </tbody>\n",
       "</table>\n",
       "</div>"
      ],
      "text/plain": [
       "  default student      balance       income\n",
       "0      No      No   729.526495  44361.62507\n",
       "1      No     Yes   817.180407  12106.13470\n",
       "2      No      No  1073.549164  31767.13895\n",
       "3      No      No   529.250605  35704.49394\n",
       "4      No      No   785.655883  38463.49588"
      ]
     },
     "execution_count": 3,
     "metadata": {},
     "output_type": "execute_result"
    }
   ],
   "source": [
    "defaulter_df = pd.read_csv(\"Default.csv\")\n",
    "defaulter_df.head()\n",
    "\n"
   ]
  },
  {
   "cell_type": "code",
   "execution_count": 4,
   "id": "1b37f1dd",
   "metadata": {},
   "outputs": [
    {
     "name": "stdout",
     "output_type": "stream",
     "text": [
      "Size of the data : (10000, 4)\n"
     ]
    }
   ],
   "source": [
    "print('Size of the data :',defaulter_df.shape)"
   ]
  },
  {
   "cell_type": "code",
   "execution_count": null,
   "id": "81500484",
   "metadata": {},
   "outputs": [],
   "source": [
    " "
   ]
  },
  {
   "cell_type": "code",
   "execution_count": 5,
   "id": "b6c3c130",
   "metadata": {},
   "outputs": [],
   "source": [
    "x = defaulter_df[[\"balance\", \"income\"]]\n",
    "y = defaulter_df[\"default\"]\n"
   ]
  },
  {
   "cell_type": "code",
   "execution_count": 6,
   "id": "f9ceb3e4",
   "metadata": {},
   "outputs": [],
   "source": [
    "from sklearn.model_selection import train_test_split"
   ]
  },
  {
   "cell_type": "code",
   "execution_count": 7,
   "id": "7477451d",
   "metadata": {},
   "outputs": [],
   "source": [
    "x_train,x_test,y_train,y_test=train_test_split(x,y,test_size=0.2,random_state=42)"
   ]
  },
  {
   "cell_type": "code",
   "execution_count": 8,
   "id": "2dc326c7",
   "metadata": {},
   "outputs": [
    {
     "name": "stdout",
     "output_type": "stream",
     "text": [
      "Size of training data : 8000\n",
      "Size of test data : 2000\n"
     ]
    }
   ],
   "source": [
    "print('Size of training data :',x_train.shape[0])\n",
    "print('Size of test data :',x_test.shape[0])"
   ]
  },
  {
   "cell_type": "code",
   "execution_count": 9,
   "id": "63efe028",
   "metadata": {},
   "outputs": [],
   "source": [
    "from sklearn.preprocessing import MinMaxScaler"
   ]
  },
  {
   "cell_type": "code",
   "execution_count": 10,
   "id": "5e0b4ea6",
   "metadata": {},
   "outputs": [
    {
     "data": {
      "text/plain": [
       "array([[0.60044261, 0.41419578],\n",
       "       [0.32278831, 0.57880959],\n",
       "       [0.        , 0.2640447 ],\n",
       "       ...,\n",
       "       [0.01141857, 0.31423418],\n",
       "       [0.56417888, 0.24950704],\n",
       "       [0.12493461, 0.6941076 ]])"
      ]
     },
     "execution_count": 10,
     "metadata": {},
     "output_type": "execute_result"
    }
   ],
   "source": [
    "min_max = MinMaxScaler()\n",
    "min_max.fit(x_train)\n",
    "train_transformed = min_max.transform(x_train)\n",
    "transformed = min_max.fit_transform(x_test)\n",
    "transformed"
   ]
  },
  {
   "cell_type": "code",
   "execution_count": 11,
   "id": "68f6939b",
   "metadata": {},
   "outputs": [
    {
     "data": {
      "text/html": [
       "<div>\n",
       "<style scoped>\n",
       "    .dataframe tbody tr th:only-of-type {\n",
       "        vertical-align: middle;\n",
       "    }\n",
       "\n",
       "    .dataframe tbody tr th {\n",
       "        vertical-align: top;\n",
       "    }\n",
       "\n",
       "    .dataframe thead th {\n",
       "        text-align: right;\n",
       "    }\n",
       "</style>\n",
       "<table border=\"1\" class=\"dataframe\">\n",
       "  <thead>\n",
       "    <tr style=\"text-align: right;\">\n",
       "      <th></th>\n",
       "      <th>balance</th>\n",
       "      <th>income</th>\n",
       "      <th>balance_normalized</th>\n",
       "      <th>income_normalized</th>\n",
       "    </tr>\n",
       "  </thead>\n",
       "  <tbody>\n",
       "    <tr>\n",
       "      <th>9254</th>\n",
       "      <td>1018.568130</td>\n",
       "      <td>34103.87952</td>\n",
       "      <td>0.383739</td>\n",
       "      <td>0.457967</td>\n",
       "    </tr>\n",
       "    <tr>\n",
       "      <th>1561</th>\n",
       "      <td>62.170050</td>\n",
       "      <td>28660.74751</td>\n",
       "      <td>0.023422</td>\n",
       "      <td>0.383181</td>\n",
       "    </tr>\n",
       "    <tr>\n",
       "      <th>1670</th>\n",
       "      <td>1046.743543</td>\n",
       "      <td>40822.44741</td>\n",
       "      <td>0.394354</td>\n",
       "      <td>0.550278</td>\n",
       "    </tr>\n",
       "    <tr>\n",
       "      <th>6087</th>\n",
       "      <td>763.735280</td>\n",
       "      <td>44125.71873</td>\n",
       "      <td>0.287733</td>\n",
       "      <td>0.595664</td>\n",
       "    </tr>\n",
       "    <tr>\n",
       "      <th>6669</th>\n",
       "      <td>697.248633</td>\n",
       "      <td>25730.91758</td>\n",
       "      <td>0.262684</td>\n",
       "      <td>0.342926</td>\n",
       "    </tr>\n",
       "  </tbody>\n",
       "</table>\n",
       "</div>"
      ],
      "text/plain": [
       "          balance       income  balance_normalized  income_normalized\n",
       "9254  1018.568130  34103.87952            0.383739           0.457967\n",
       "1561    62.170050  28660.74751            0.023422           0.383181\n",
       "1670  1046.743543  40822.44741            0.394354           0.550278\n",
       "6087   763.735280  44125.71873            0.287733           0.595664\n",
       "6669   697.248633  25730.91758            0.262684           0.342926"
      ]
     },
     "execution_count": 11,
     "metadata": {},
     "output_type": "execute_result"
    }
   ],
   "source": [
    "x_train[\"balance_normalized\"] = train_transformed[:,0]\n",
    "x_train[\"income_normalized\"] = train_transformed[:,1]\n",
    "x_train.head()"
   ]
  },
  {
   "cell_type": "code",
   "execution_count": 12,
   "id": "e0cf30cf",
   "metadata": {},
   "outputs": [
    {
     "data": {
      "text/html": [
       "<div>\n",
       "<style scoped>\n",
       "    .dataframe tbody tr th:only-of-type {\n",
       "        vertical-align: middle;\n",
       "    }\n",
       "\n",
       "    .dataframe tbody tr th {\n",
       "        vertical-align: top;\n",
       "    }\n",
       "\n",
       "    .dataframe thead th {\n",
       "        text-align: right;\n",
       "    }\n",
       "</style>\n",
       "<table border=\"1\" class=\"dataframe\">\n",
       "  <thead>\n",
       "    <tr style=\"text-align: right;\">\n",
       "      <th></th>\n",
       "      <th>balance</th>\n",
       "      <th>income</th>\n",
       "      <th>balance_normalized</th>\n",
       "      <th>income_normalized</th>\n",
       "    </tr>\n",
       "  </thead>\n",
       "  <tbody>\n",
       "    <tr>\n",
       "      <th>6252</th>\n",
       "      <td>1435.662933</td>\n",
       "      <td>31507.08928</td>\n",
       "      <td>0.600443</td>\n",
       "      <td>0.414196</td>\n",
       "    </tr>\n",
       "    <tr>\n",
       "      <th>4684</th>\n",
       "      <td>771.789347</td>\n",
       "      <td>42139.07027</td>\n",
       "      <td>0.322788</td>\n",
       "      <td>0.578810</td>\n",
       "    </tr>\n",
       "    <tr>\n",
       "      <th>1731</th>\n",
       "      <td>0.000000</td>\n",
       "      <td>21809.21851</td>\n",
       "      <td>0.000000</td>\n",
       "      <td>0.264045</td>\n",
       "    </tr>\n",
       "    <tr>\n",
       "      <th>4742</th>\n",
       "      <td>113.571264</td>\n",
       "      <td>32803.83265</td>\n",
       "      <td>0.047499</td>\n",
       "      <td>0.434273</td>\n",
       "    </tr>\n",
       "    <tr>\n",
       "      <th>4521</th>\n",
       "      <td>1358.132472</td>\n",
       "      <td>49903.59708</td>\n",
       "      <td>0.568017</td>\n",
       "      <td>0.699027</td>\n",
       "    </tr>\n",
       "  </tbody>\n",
       "</table>\n",
       "</div>"
      ],
      "text/plain": [
       "          balance       income  balance_normalized  income_normalized\n",
       "6252  1435.662933  31507.08928            0.600443           0.414196\n",
       "4684   771.789347  42139.07027            0.322788           0.578810\n",
       "1731     0.000000  21809.21851            0.000000           0.264045\n",
       "4742   113.571264  32803.83265            0.047499           0.434273\n",
       "4521  1358.132472  49903.59708            0.568017           0.699027"
      ]
     },
     "execution_count": 12,
     "metadata": {},
     "output_type": "execute_result"
    }
   ],
   "source": [
    "x_test[\"balance_normalized\"] = transformed[:,0]\n",
    "x_test[\"income_normalized\"] = transformed[:,1]\n",
    "x_test.head()"
   ]
  },
  {
   "cell_type": "markdown",
   "id": "fc128734",
   "metadata": {},
   "source": [
    "## Fitting KNN"
   ]
  },
  {
   "cell_type": "markdown",
   "id": "7b013041",
   "metadata": {},
   "source": [
    "### 1. k=3"
   ]
  },
  {
   "cell_type": "code",
   "execution_count": 13,
   "id": "b934feb7",
   "metadata": {},
   "outputs": [],
   "source": [
    "from sklearn.neighbors import KNeighborsClassifier"
   ]
  },
  {
   "cell_type": "code",
   "execution_count": 14,
   "id": "b9b9d130",
   "metadata": {},
   "outputs": [
    {
     "data": {
      "text/plain": [
       "KNeighborsClassifier(metric='euclidean', n_neighbors=3)"
      ]
     },
     "execution_count": 14,
     "metadata": {},
     "output_type": "execute_result"
    }
   ],
   "source": [
    "knn=KNeighborsClassifier(n_neighbors=3,metric='euclidean')\n",
    "knn.fit(x_train[['balance_normalized','income_normalized']],y_train)\n"
   ]
  },
  {
   "cell_type": "code",
   "execution_count": 15,
   "id": "10d1eddc",
   "metadata": {},
   "outputs": [
    {
     "data": {
      "text/plain": [
       "array(['No', 'No', 'No', ..., 'No', 'No', 'No'], dtype=object)"
      ]
     },
     "execution_count": 15,
     "metadata": {},
     "output_type": "execute_result"
    }
   ],
   "source": [
    "predictions=knn.predict(x_test[['balance_normalized','income_normalized']])\n",
    "predictions"
   ]
  },
  {
   "cell_type": "code",
   "execution_count": 16,
   "id": "777de776",
   "metadata": {},
   "outputs": [
    {
     "data": {
      "text/plain": [
       "6252    No\n",
       "4684    No\n",
       "1731    No\n",
       "4742    No\n",
       "4521    No\n",
       "        ..\n",
       "6412    No\n",
       "8285    No\n",
       "7853    No\n",
       "1095    No\n",
       "6929    No\n",
       "Name: default, Length: 2000, dtype: object"
      ]
     },
     "execution_count": 16,
     "metadata": {},
     "output_type": "execute_result"
    }
   ],
   "source": [
    "y_test"
   ]
  },
  {
   "cell_type": "markdown",
   "id": "b8c80785",
   "metadata": {},
   "source": [
    "# Computing accuracy"
   ]
  },
  {
   "cell_type": "code",
   "execution_count": 17,
   "id": "159c0ee3",
   "metadata": {},
   "outputs": [],
   "source": [
    "from sklearn.metrics import accuracy_score"
   ]
  },
  {
   "cell_type": "code",
   "execution_count": 18,
   "id": "2b99a88b",
   "metadata": {},
   "outputs": [
    {
     "name": "stdout",
     "output_type": "stream",
     "text": [
      "Accuracy on test data : 0.96\n"
     ]
    }
   ],
   "source": [
    "test_accuracy=accuracy_score(y_test,predictions)\n",
    "print('Accuracy on test data :',test_accuracy)"
   ]
  },
  {
   "cell_type": "code",
   "execution_count": 19,
   "id": "4ed30248",
   "metadata": {},
   "outputs": [
    {
     "name": "stdout",
     "output_type": "stream",
     "text": [
      "Accuracy on training data : 0.978625\n"
     ]
    }
   ],
   "source": [
    "train_predictions=knn.predict(x_train[['balance_normalized','income_normalized']])\n",
    "train_accuracy=accuracy_score(y_train,train_predictions)\n",
    "print('Accuracy on training data :',train_accuracy)"
   ]
  },
  {
   "cell_type": "markdown",
   "id": "18e58895",
   "metadata": {},
   "source": [
    "### 2. k=5"
   ]
  },
  {
   "cell_type": "code",
   "execution_count": 20,
   "id": "1433172f",
   "metadata": {},
   "outputs": [
    {
     "name": "stdout",
     "output_type": "stream",
     "text": [
      "Accuracy on test data : 0.96\n",
      "Accuracy on training data : 0.978625\n"
     ]
    }
   ],
   "source": [
    "knn_5=KNeighborsClassifier(n_neighbors=5,metric='euclidean')\n",
    "knn_5.fit(x_train[['balance_normalized','income_normalized']],y_train)\n",
    "predictions=knn.predict(x_test[['balance_normalized','income_normalized']])\n",
    "test_accuracy=accuracy_score(y_test,predictions)\n",
    "print('Accuracy on test data :',test_accuracy)\n",
    "train_predictions=knn.predict(x_train[['balance_normalized','income_normalized']])\n",
    "train_accuracy=accuracy_score(y_train,train_predictions)\n",
    "print('Accuracy on training data :',train_accuracy)"
   ]
  },
  {
   "cell_type": "markdown",
   "id": "89a9b566",
   "metadata": {},
   "source": [
    "## Finding optimal value of k"
   ]
  },
  {
   "cell_type": "code",
   "execution_count": 21,
   "id": "670c82f9",
   "metadata": {},
   "outputs": [],
   "source": [
    "train_accuracies=[]\n",
    "test_accuracies=[]\n",
    "for i in range(1,16,2):\n",
    "    knn=KNeighborsClassifier(n_neighbors=i,metric='euclidean')\n",
    "    knn.fit(x_train[['balance_normalized','income_normalized']],y_train)\n",
    "    predictions=knn.predict(x_test[['balance_normalized','income_normalized']])\n",
    "    test_accuracy=accuracy_score(y_test,predictions)\n",
    "    test_accuracies.append(test_accuracy)\n",
    "    train_predictions=knn.predict(x_train[['balance_normalized','income_normalized']])\n",
    "    train_accuracy=accuracy_score(y_train,train_predictions)\n",
    "    train_accuracies.append(train_accuracy)\n",
    "    "
   ]
  },
  {
   "cell_type": "code",
   "execution_count": 22,
   "id": "b838b1ee",
   "metadata": {},
   "outputs": [
    {
     "data": {
      "text/plain": [
       "([1.0, 0.978625, 0.9755, 0.976375, 0.97475, 0.9745, 0.974375, 0.97475],\n",
       " [0.949, 0.96, 0.959, 0.9585, 0.96, 0.9595, 0.957, 0.959])"
      ]
     },
     "execution_count": 22,
     "metadata": {},
     "output_type": "execute_result"
    }
   ],
   "source": [
    "train_accuracies,test_accuracies"
   ]
  },
  {
   "cell_type": "code",
   "execution_count": 23,
   "id": "78a887a2",
   "metadata": {},
   "outputs": [
    {
     "data": {
      "text/plain": [
       "<matplotlib.legend.Legend at 0x2aa06bffc40>"
      ]
     },
     "execution_count": 23,
     "metadata": {},
     "output_type": "execute_result"
    },
    {
     "data": {
      "image/png": "[encoded data removed]",
      "text/plain": [
       "<Figure size 640x480 with 1 Axes>"
      ]
     },
     "metadata": {},
     "output_type": "display_data"
    }
   ],
   "source": [
    "k_values=list(range(1,16,2))\n",
    "plt.plot(k_values,train_accuracies)\n",
    "plt.plot(k_values,test_accuracies)\n",
    "plt.legend(['train_accuracy','test_accuracy'])"
   ]
  },
  {
   "cell_type": "markdown",
   "id": "08467d90",
   "metadata": {},
   "source": [
    "## Fitting with initial optimal value of k"
   ]
  },
  {
   "cell_type": "code",
   "execution_count": 24,
   "id": "927a538e",
   "metadata": {},
   "outputs": [
    {
     "name": "stdout",
     "output_type": "stream",
     "text": [
      "Accuracy on test data : 0.96\n",
      "Accuracy on training data : 0.97475\n"
     ]
    }
   ],
   "source": [
    "knn=KNeighborsClassifier(n_neighbors=9,metric='euclidean')\n",
    "knn.fit(x_train[['balance_normalized','income_normalized']],y_train)\n",
    "predictions=knn.predict(x_test[['balance_normalized','income_normalized']])\n",
    "test_accuracy=accuracy_score(y_test,predictions)\n",
    "print('Accuracy on test data :',test_accuracy)\n",
    "train_predictions=knn.predict(x_train[['balance_normalized','income_normalized']])\n",
    "train_accuracy=accuracy_score(y_train,train_predictions)\n",
    "print('Accuracy on training data :',train_accuracy)"
   ]
  },
  {
   "cell_type": "markdown",
   "id": "3a19015f",
   "metadata": {},
   "source": [
    "# validation split"
   ]
  },
  {
   "cell_type": "markdown",
   "id": "e8cd890f",
   "metadata": {},
   "source": [
    "### sipmle train and validation split"
   ]
  },
  {
   "cell_type": "code",
   "execution_count": 25,
   "id": "fc165ba3",
   "metadata": {},
   "outputs": [],
   "source": [
    "x_train_new, x_val, y_train_new, y_val = train_test_split(x_train[[\"balance_normalized\",\"income_normalized\"]],y_train, test_size = 0.2, random_state = 42)"
   ]
  },
  {
   "cell_type": "code",
   "execution_count": 27,
   "id": "dc0d06c0",
   "metadata": {},
   "outputs": [
    {
     "name": "stdout",
     "output_type": "stream",
     "text": [
      "Size of training data:  6400\n",
      "Size of validation data :  1600\n"
     ]
    }
   ],
   "source": [
    "print(\"Size of training data: \", x_train_new.shape[0])\n",
    "print(\"Size of validation data : \", x_val.shape[0])"
   ]
  },
  {
   "cell_type": "code",
   "execution_count": 28,
   "id": "a27033ec",
   "metadata": {},
   "outputs": [],
   "source": [
    "train_accuracies = []\n",
    "val_accuracies = []\n",
    "for i in range(1,16,2):\n",
    "    knn = KNeighborsClassifier(n_neighbors = i, metric = \"euclidean\")\n",
    "    knn.fit(x_train_new, y_train_new)\n",
    "    val_predictions = knn.predict(x_val)\n",
    "    val_accuracy = accuracy_score(y_val, val_predictions)\n",
    "    val_accuracies.append(val_accuracy)\n",
    "    train_predictions = knn.predict(x_train_new)\n",
    "    train_accuracy = accuracy_score(y_train_new, train_predictions)\n",
    "    train_accuracies.append(train_accuracy)"
   ]
  },
  {
   "cell_type": "code",
   "execution_count": 29,
   "id": "8e712073",
   "metadata": {},
   "outputs": [
    {
     "data": {
      "text/plain": [
       "<matplotlib.legend.Legend at 0x2aa06c664f0>"
      ]
     },
     "execution_count": 29,
     "metadata": {},
     "output_type": "execute_result"
    },
    {
     "data": {
      "image/png": "[encoded data removed]",
      "text/plain": [
       "<Figure size 640x480 with 1 Axes>"
      ]
     },
     "metadata": {},
     "output_type": "display_data"
    }
   ],
   "source": [
    "k_values = list(range(1,16,2))\n",
    "plt.plot(k_values, train_accuracies)\n",
    "plt.plot(k_values, val_accuracies)\n",
    "plt.legend([\"train_accuracy\", \"validation_accuracy\"])"
   ]
  },
  {
   "cell_type": "code",
   "execution_count": 30,
   "id": "7dc1b44e",
   "metadata": {},
   "outputs": [
    {
     "data": {
      "text/plain": [
       "0.97"
      ]
     },
     "execution_count": 30,
     "metadata": {},
     "output_type": "execute_result"
    }
   ],
   "source": [
    "#fitting with optimla value of k\n",
    "knn = KNeighborsClassifier(n_neighbors = 5, metric = \"euclidean\")\n",
    "knn.fit(x_train_new, y_train_new)\n",
    "val_predictions = knn.predict(x_val)\n",
    "val_accuracy = accuracy_score(y_val, val_predictions)\n",
    "val_accuracy"
   ]
  },
  {
   "cell_type": "code",
   "execution_count": 31,
   "id": "ca56d8d9",
   "metadata": {},
   "outputs": [
    {
     "data": {
      "text/plain": [
       "0.96"
      ]
     },
     "execution_count": 31,
     "metadata": {},
     "output_type": "execute_result"
    }
   ],
   "source": [
    "predictions = knn.predict(x_test[[\"balance_normalized\",\"income_normalized\"]])\n",
    "test_accuracy = accuracy_score(y_test, predictions)\n",
    "test_accuracy"
   ]
  },
  {
   "cell_type": "markdown",
   "id": "93205bc1",
   "metadata": {},
   "source": [
    "## cross validation"
   ]
  },
  {
   "cell_type": "code",
   "execution_count": 32,
   "id": "4d0bffdc",
   "metadata": {},
   "outputs": [],
   "source": [
    "from sklearn.model_selection import cross_validate"
   ]
  },
  {
   "cell_type": "code",
   "execution_count": 33,
   "id": "73469e46",
   "metadata": {},
   "outputs": [],
   "source": [
    "knn =  KNeighborsClassifier(n_neighbors = 5, metric = \"euclidean\")"
   ]
  },
  {
   "cell_type": "code",
   "execution_count": 34,
   "id": "f3b62d51",
   "metadata": {},
   "outputs": [
    {
     "data": {
      "text/plain": [
       "{'fit_time': array([0.03200769, 0.03213859, 0.0238502 , 0.03200126]),\n",
       " 'score_time': array([0.34383583, 0.34398961, 0.33613443, 0.33598924]),\n",
       " 'test_score': array([0.973, 0.972, 0.967, 0.971]),\n",
       " 'train_score': array([0.9755    , 0.97633333, 0.97683333, 0.97616667])}"
      ]
     },
     "execution_count": 34,
     "metadata": {},
     "output_type": "execute_result"
    }
   ],
   "source": [
    "cv_results = cross_validate(knn, x_train[[\"balance_normalized\",\"income_normalized\"]], y_train, cv=4, return_train_score =True)\n",
    "cv_results"
   ]
  },
  {
   "cell_type": "code",
   "execution_count": 35,
   "id": "c3a198d3",
   "metadata": {},
   "outputs": [
    {
     "name": "stdout",
     "output_type": "stream",
     "text": [
      "Training data average accuracy : 97.62083333333334\n",
      "Validation data average accuracy : 97.075\n"
     ]
    }
   ],
   "source": [
    "print(\"Training data average accuracy :\", cv_results[\"train_score\"].mean()*100)\n",
    "print(\"Validation data average accuracy :\", cv_results[\"test_score\"].mean()*100)"
   ]
  },
  {
   "cell_type": "code",
   "execution_count": 36,
   "id": "0601a898",
   "metadata": {},
   "outputs": [
    {
     "data": {
      "text/plain": [
       "0.959"
      ]
     },
     "execution_count": 36,
     "metadata": {},
     "output_type": "execute_result"
    }
   ],
   "source": [
    "knn.fit(x_train[[\"balance_normalized\",\"income_normalized\"]], y_train)\n",
    "predictions = knn.predict(x_test[[\"balance_normalized\",\"income_normalized\"]])\n",
    "test_accuracy = accuracy_score(y_test, predictions)\n",
    "test_accuracy"
   ]
  },
  {
   "cell_type": "markdown",
   "id": "639631d3",
   "metadata": {},
   "source": [
    "## Hyper parameter tuning using GridSearch"
   ]
  },
  {
   "cell_type": "code",
   "execution_count": 37,
   "id": "7dc68446",
   "metadata": {},
   "outputs": [],
   "source": [
    "from sklearn.model_selection import GridSearchCV"
   ]
  },
  {
   "cell_type": "code",
   "execution_count": 38,
   "id": "0a0c71a4",
   "metadata": {},
   "outputs": [],
   "source": [
    "knn = KNeighborsClassifier(metric = \"euclidean\")"
   ]
  },
  {
   "cell_type": "code",
   "execution_count": 40,
   "id": "acfa7ee6",
   "metadata": {},
   "outputs": [],
   "source": [
    "param_grid={'n_neighbors':np.arange(1,16,2)}"
   ]
  },
  {
   "cell_type": "code",
   "execution_count": 41,
   "id": "30a46021",
   "metadata": {},
   "outputs": [],
   "source": [
    "knn_with_gs = GridSearchCV(knn, param_grid, return_train_score = True, verbose =1, scoring = \"accuracy\")"
   ]
  },
  {
   "cell_type": "code",
   "execution_count": 42,
   "id": "f9b89273",
   "metadata": {},
   "outputs": [
    {
     "name": "stdout",
     "output_type": "stream",
     "text": [
      "Fitting 5 folds for each of 8 candidates, totalling 40 fits\n"
     ]
    },
    {
     "data": {
      "text/plain": [
       "GridSearchCV(estimator=KNeighborsClassifier(metric='euclidean'),\n",
       "             param_grid={'n_neighbors': array([ 1,  3,  5,  7,  9, 11, 13, 15])},\n",
       "             return_train_score=True, scoring='accuracy', verbose=1)"
      ]
     },
     "execution_count": 42,
     "metadata": {},
     "output_type": "execute_result"
    }
   ],
   "source": [
    "knn_with_gs.fit(x_train[[\"balance_normalized\",\"income_normalized\"]], y_train)"
   ]
  },
  {
   "cell_type": "code",
   "execution_count": 43,
   "id": "6894a3d7",
   "metadata": {},
   "outputs": [
    {
     "data": {
      "text/plain": [
       "{'mean_fit_time': array([0.0317781 , 0.02977643, 0.03577394, 0.03477325, 0.03197398,\n",
       "        0.03137546, 0.03137555, 0.03237619]),\n",
       " 'std_fit_time': array([0.00306006, 0.00074727, 0.0043061 , 0.00278393, 0.00178699,\n",
       "        0.00101818, 0.00286769, 0.00682679]),\n",
       " 'mean_score_time': array([0.24464235, 0.23884759, 0.27462606, 0.34138422, 0.26243362,\n",
       "        0.28401971, 0.26103535, 0.25063996]),\n",
       " 'std_score_time': array([0.01930946, 0.00315917, 0.02203627, 0.09108657, 0.00664628,\n",
       "        0.03552809, 0.01353354, 0.00401792]),\n",
       " 'param_n_neighbors': masked_array(data=[1, 3, 5, 7, 9, 11, 13, 15],\n",
       "              mask=[False, False, False, False, False, False, False, False],\n",
       "        fill_value='?',\n",
       "             dtype=object),\n",
       " 'params': [{'n_neighbors': 1},\n",
       "  {'n_neighbors': 3},\n",
       "  {'n_neighbors': 5},\n",
       "  {'n_neighbors': 7},\n",
       "  {'n_neighbors': 9},\n",
       "  {'n_neighbors': 11},\n",
       "  {'n_neighbors': 13},\n",
       "  {'n_neighbors': 15}],\n",
       " 'split0_test_score': array([0.95875 , 0.970625, 0.974375, 0.975   , 0.97625 , 0.975625,\n",
       "        0.976875, 0.976875]),\n",
       " 'split1_test_score': array([0.955   , 0.963125, 0.96625 , 0.9675  , 0.97    , 0.97125 ,\n",
       "        0.969375, 0.970625]),\n",
       " 'split2_test_score': array([0.955625, 0.968125, 0.97125 , 0.971875, 0.974375, 0.975625,\n",
       "        0.973125, 0.973125]),\n",
       " 'split3_test_score': array([0.95375 , 0.96375 , 0.965625, 0.966875, 0.969375, 0.96875 ,\n",
       "        0.97125 , 0.97    ]),\n",
       " 'split4_test_score': array([0.95375 , 0.968125, 0.971875, 0.973125, 0.97625 , 0.97625 ,\n",
       "        0.975   , 0.9725  ]),\n",
       " 'mean_test_score': array([0.955375, 0.96675 , 0.969875, 0.970875, 0.97325 , 0.9735  ,\n",
       "        0.973125, 0.972625]),\n",
       " 'std_test_score': array([0.00183712, 0.00286138, 0.00338655, 0.00317707, 0.00299479,\n",
       "        0.00297384, 0.00265165, 0.00241738]),\n",
       " 'rank_test_score': array([8, 7, 6, 5, 2, 1, 3, 4]),\n",
       " 'split0_train_score': array([1.        , 0.97703125, 0.9740625 , 0.9759375 , 0.9740625 ,\n",
       "        0.97546875, 0.97515625, 0.97453125]),\n",
       " 'split1_train_score': array([1.        , 0.97921875, 0.97703125, 0.97703125, 0.97578125,\n",
       "        0.97546875, 0.97546875, 0.975     ]),\n",
       " 'split2_train_score': array([1.        , 0.97875   , 0.97640625, 0.9759375 , 0.975     ,\n",
       "        0.9746875 , 0.974375  , 0.97484375]),\n",
       " 'split3_train_score': array([1.        , 0.97828125, 0.97671875, 0.97609375, 0.97625   ,\n",
       "        0.975     , 0.9759375 , 0.9753125 ]),\n",
       " 'split4_train_score': array([1.        , 0.97890625, 0.97546875, 0.97484375, 0.97453125,\n",
       "        0.97328125, 0.9740625 , 0.97390625]),\n",
       " 'mean_train_score': array([1.        , 0.9784375 , 0.9759375 , 0.97596875, 0.975125  ,\n",
       "        0.97478125, 0.975     , 0.97471875]),\n",
       " 'std_train_score': array([0.        , 0.00076547, 0.00107347, 0.00069457, 0.00079917,\n",
       "        0.00080647, 0.00069175, 0.00047803])}"
      ]
     },
     "execution_count": 43,
     "metadata": {},
     "output_type": "execute_result"
    }
   ],
   "source": [
    "knn_with_gs.cv_results_"
   ]
  },
  {
   "cell_type": "code",
   "execution_count": 44,
   "id": "f360482a",
   "metadata": {},
   "outputs": [
    {
     "data": {
      "text/html": [
       "<div>\n",
       "<style scoped>\n",
       "    .dataframe tbody tr th:only-of-type {\n",
       "        vertical-align: middle;\n",
       "    }\n",
       "\n",
       "    .dataframe tbody tr th {\n",
       "        vertical-align: top;\n",
       "    }\n",
       "\n",
       "    .dataframe thead th {\n",
       "        text-align: right;\n",
       "    }\n",
       "</style>\n",
       "<table border=\"1\" class=\"dataframe\">\n",
       "  <thead>\n",
       "    <tr style=\"text-align: right;\">\n",
       "      <th></th>\n",
       "      <th>param_n_neighbors</th>\n",
       "      <th>mean_train_score</th>\n",
       "      <th>mean_test_score</th>\n",
       "    </tr>\n",
       "  </thead>\n",
       "  <tbody>\n",
       "    <tr>\n",
       "      <th>0</th>\n",
       "      <td>1</td>\n",
       "      <td>1.000000</td>\n",
       "      <td>0.955375</td>\n",
       "    </tr>\n",
       "    <tr>\n",
       "      <th>1</th>\n",
       "      <td>3</td>\n",
       "      <td>0.978437</td>\n",
       "      <td>0.966750</td>\n",
       "    </tr>\n",
       "    <tr>\n",
       "      <th>2</th>\n",
       "      <td>5</td>\n",
       "      <td>0.975938</td>\n",
       "      <td>0.969875</td>\n",
       "    </tr>\n",
       "    <tr>\n",
       "      <th>3</th>\n",
       "      <td>7</td>\n",
       "      <td>0.975969</td>\n",
       "      <td>0.970875</td>\n",
       "    </tr>\n",
       "    <tr>\n",
       "      <th>4</th>\n",
       "      <td>9</td>\n",
       "      <td>0.975125</td>\n",
       "      <td>0.973250</td>\n",
       "    </tr>\n",
       "    <tr>\n",
       "      <th>5</th>\n",
       "      <td>11</td>\n",
       "      <td>0.974781</td>\n",
       "      <td>0.973500</td>\n",
       "    </tr>\n",
       "    <tr>\n",
       "      <th>6</th>\n",
       "      <td>13</td>\n",
       "      <td>0.975000</td>\n",
       "      <td>0.973125</td>\n",
       "    </tr>\n",
       "    <tr>\n",
       "      <th>7</th>\n",
       "      <td>15</td>\n",
       "      <td>0.974719</td>\n",
       "      <td>0.972625</td>\n",
       "    </tr>\n",
       "  </tbody>\n",
       "</table>\n",
       "</div>"
      ],
      "text/plain": [
       "  param_n_neighbors  mean_train_score  mean_test_score\n",
       "0                 1          1.000000         0.955375\n",
       "1                 3          0.978437         0.966750\n",
       "2                 5          0.975938         0.969875\n",
       "3                 7          0.975969         0.970875\n",
       "4                 9          0.975125         0.973250\n",
       "5                11          0.974781         0.973500\n",
       "6                13          0.975000         0.973125\n",
       "7                15          0.974719         0.972625"
      ]
     },
     "execution_count": 44,
     "metadata": {},
     "output_type": "execute_result"
    }
   ],
   "source": [
    "tuned_df = pd.DataFrame(knn_with_gs.cv_results_)\n",
    "tuned_df = tuned_df[[\"param_n_neighbors\",\"mean_train_score\", \"mean_test_score\"]]\n",
    "tuned_df"
   ]
  },
  {
   "cell_type": "code",
   "execution_count": 45,
   "id": "d8781dca",
   "metadata": {},
   "outputs": [
    {
     "data": {
      "text/plain": [
       "0.9595"
      ]
     },
     "execution_count": 45,
     "metadata": {},
     "output_type": "execute_result"
    }
   ],
   "source": [
    "knn_9 =  KNeighborsClassifier(n_neighbors = 11, metric = \"euclidean\")\n",
    "knn_9.fit(x_train[[\"balance_normalized\",\"income_normalized\"]], y_train)\n",
    "predictions = knn_9.predict(x_test[[\"balance_normalized\",\"income_normalized\"]])\n",
    "test_accuracy = accuracy_score(y_test, predictions)\n",
    "test_accuracy"
   ]
  },
  {
   "cell_type": "markdown",
   "id": "fee03f30",
   "metadata": {},
   "source": [
    "## Evaluation measures"
   ]
  },
  {
   "cell_type": "markdown",
   "id": "3cee30fe",
   "metadata": {},
   "source": [
    "#### Confusion matrix"
   ]
  },
  {
   "cell_type": "code",
   "execution_count": 46,
   "id": "bfb13aa1",
   "metadata": {},
   "outputs": [],
   "source": [
    "from sklearn.metrics import confusion_matrix "
   ]
  },
  {
   "cell_type": "code",
   "execution_count": 47,
   "id": "3f97e680",
   "metadata": {},
   "outputs": [
    {
     "name": "stdout",
     "output_type": "stream",
     "text": [
      "Confusion Matrix : \n",
      " [[1890   41]\n",
      " [  40   29]]\n"
     ]
    }
   ],
   "source": [
    "cm = confusion_matrix(y_test, predictions)\n",
    "print(\"Confusion Matrix : \\n\", cm)"
   ]
  },
  {
   "cell_type": "code",
   "execution_count": 48,
   "id": "8b1aad27",
   "metadata": {},
   "outputs": [
    {
     "data": {
      "text/html": [
       "<div>\n",
       "<style scoped>\n",
       "    .dataframe tbody tr th:only-of-type {\n",
       "        vertical-align: middle;\n",
       "    }\n",
       "\n",
       "    .dataframe tbody tr th {\n",
       "        vertical-align: top;\n",
       "    }\n",
       "\n",
       "    .dataframe thead th {\n",
       "        text-align: right;\n",
       "    }\n",
       "</style>\n",
       "<table border=\"1\" class=\"dataframe\">\n",
       "  <thead>\n",
       "    <tr style=\"text-align: right;\">\n",
       "      <th></th>\n",
       "      <th>No</th>\n",
       "      <th>Yes</th>\n",
       "    </tr>\n",
       "  </thead>\n",
       "  <tbody>\n",
       "    <tr>\n",
       "      <th>No</th>\n",
       "      <td>1890</td>\n",
       "      <td>41</td>\n",
       "    </tr>\n",
       "    <tr>\n",
       "      <th>Yes</th>\n",
       "      <td>40</td>\n",
       "      <td>29</td>\n",
       "    </tr>\n",
       "  </tbody>\n",
       "</table>\n",
       "</div>"
      ],
      "text/plain": [
       "       No  Yes\n",
       "No   1890   41\n",
       "Yes    40   29"
      ]
     },
     "execution_count": 48,
     "metadata": {},
     "output_type": "execute_result"
    }
   ],
   "source": [
    "pd.DataFrame(cm, columns = [\"No\", \"Yes\"], index = [\"No\", \"Yes\"])"
   ]
  },
  {
   "cell_type": "markdown",
   "id": "d8a42b25",
   "metadata": {},
   "source": [
    "#### Precision and recall"
   ]
  },
  {
   "cell_type": "code",
   "execution_count": 49,
   "id": "c71798c2",
   "metadata": {},
   "outputs": [],
   "source": [
    "from sklearn.metrics import precision_score, recall_score"
   ]
  },
  {
   "cell_type": "code",
   "execution_count": 50,
   "id": "7f190bb1",
   "metadata": {},
   "outputs": [
    {
     "data": {
      "text/plain": [
       "0.4142857142857143"
      ]
     },
     "execution_count": 50,
     "metadata": {},
     "output_type": "execute_result"
    }
   ],
   "source": [
    "precision_score(y_test,predictions, pos_label = \"Yes\")"
   ]
  },
  {
   "cell_type": "code",
   "execution_count": 51,
   "id": "1f815037",
   "metadata": {},
   "outputs": [
    {
     "data": {
      "text/plain": [
       "0.9792746113989638"
      ]
     },
     "execution_count": 51,
     "metadata": {},
     "output_type": "execute_result"
    }
   ],
   "source": [
    "precision_score(y_test,predictions, pos_label = \"No\")"
   ]
  },
  {
   "cell_type": "code",
   "execution_count": 52,
   "id": "4d765d8d",
   "metadata": {},
   "outputs": [
    {
     "data": {
      "text/plain": [
       "0.42028985507246375"
      ]
     },
     "execution_count": 52,
     "metadata": {},
     "output_type": "execute_result"
    }
   ],
   "source": [
    "recall_score(y_test,predictions, pos_label = \"Yes\")"
   ]
  },
  {
   "cell_type": "code",
   "execution_count": 53,
   "id": "368855ea",
   "metadata": {},
   "outputs": [
    {
     "data": {
      "text/plain": [
       "0.9787674779906784"
      ]
     },
     "execution_count": 53,
     "metadata": {},
     "output_type": "execute_result"
    }
   ],
   "source": [
    "recall_score(y_test,predictions, pos_label = \"No\")"
   ]
  },
  {
   "cell_type": "markdown",
   "id": "ab3f7c40",
   "metadata": {},
   "source": [
    "### F1 score"
   ]
  },
  {
   "cell_type": "code",
   "execution_count": 54,
   "id": "c697b4a5",
   "metadata": {},
   "outputs": [],
   "source": [
    "from sklearn.metrics import f1_score"
   ]
  },
  {
   "cell_type": "code",
   "execution_count": 55,
   "id": "4ec17082",
   "metadata": {},
   "outputs": [
    {
     "data": {
      "text/plain": [
       "0.9790209790209791"
      ]
     },
     "execution_count": 55,
     "metadata": {},
     "output_type": "execute_result"
    }
   ],
   "source": [
    "f1_score(y_test,predictions,pos_label = \"No\")"
   ]
  },
  {
   "cell_type": "code",
   "execution_count": 57,
   "id": "b8b9732c",
   "metadata": {},
   "outputs": [
    {
     "data": {
      "text/plain": [
       "0.4172661870503597"
      ]
     },
     "execution_count": 57,
     "metadata": {},
     "output_type": "execute_result"
    }
   ],
   "source": [
    "f1_score(y_test,predictions,pos_label = \"Yes\")"
   ]
  },
  {
   "cell_type": "code",
   "execution_count": 58,
   "id": "1eac07f2",
   "metadata": {},
   "outputs": [
    {
     "name": "stdout",
     "output_type": "stream",
     "text": [
      "              precision    recall  f1-score   support\n",
      "\n",
      "          No       0.98      0.98      0.98      1931\n",
      "         Yes       0.41      0.42      0.42        69\n",
      "\n",
      "    accuracy                           0.96      2000\n",
      "   macro avg       0.70      0.70      0.70      2000\n",
      "weighted avg       0.96      0.96      0.96      2000\n",
      "\n"
     ]
    }
   ],
   "source": [
    "from sklearn.metrics import classification_report\n",
    "print(classification_report(y_test,predictions))"
   ]
  }
 ],
 "metadata": {
  "kernelspec": {
   "display_name": "Python 3 (ipykernel)",
   "language": "python",
   "name": "python3"
  },
  "language_info": {
   "codemirror_mode": {
    "name": "ipython",
    "version": 3
   },
   "file_extension": ".py",
   "mimetype": "text/x-python",
   "name": "python",
   "nbconvert_exporter": "python",
   "pygments_lexer": "ipython3",
   "version": "3.9.13"
  }
 },
 "nbformat": 4,
 "nbformat_minor": 5
}
